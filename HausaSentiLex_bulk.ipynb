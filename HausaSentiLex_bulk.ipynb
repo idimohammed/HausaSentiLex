{
  "nbformat": 4,
  "nbformat_minor": 0,
  "metadata": {
    "colab": {
      "provenance": []
    },
    "kernelspec": {
      "name": "python3",
      "display_name": "Python 3"
    },
    "language_info": {
      "name": "python"
    }
  },
  "cells": [
    {
      "cell_type": "markdown",
      "source": [
        "# Python Code for Sentiment Analysis with HausaSentiLex Model"
      ],
      "metadata": {
        "id": "cswZD2-PwJJZ"
      }
    },
    {
      "cell_type": "markdown",
      "source": [
        "# Step 1: Install libraries\n",
        "This will install the Transformers library and its dependencies."
      ],
      "metadata": {
        "id": "ic4isa4ZGHYN"
      }
    },
    {
      "cell_type": "code",
      "execution_count": null,
      "metadata": {
        "id": "atCuUQnjlEVF"
      },
      "outputs": [],
      "source": [
        "# Install libraries\n",
        "!pip3 install transformers\n",
        "import csv\n",
        "import pandas as pd\n",
        "!pip3 install colorama\n",
        "from colorama import Fore"
      ]
    },
    {
      "cell_type": "markdown",
      "source": [
        "# Step 2: creates a pipeline object for text classification\n",
        "\n",
        "Connect to HausaBERTa model from huggingface\n"
      ],
      "metadata": {
        "id": "qisJegklGgvT"
      }
    },
    {
      "cell_type": "code",
      "source": [
        "# Use a pipeline as a high-level helper\n",
        "from transformers import pipeline\n",
        "\n",
        "pridiction = pipeline(\"text-classification\", model=\"mangaphd/HausaSentiLex\")"
      ],
      "metadata": {
        "id": "Hj-t6i2zlsri"
      },
      "execution_count": null,
      "outputs": []
    },
    {
      "cell_type": "markdown",
      "source": [
        "# Step 3: Sentiment Analysis\n",
        "Function for sentiment analysis, which is the process of identifying the emotional tone of a piece of text. The function takes a text as input and returns a label indicating whether the text is positive, negative, or neutral."
      ],
      "metadata": {
        "id": "5TJr9R4XHgVe"
      }
    },
    {
      "cell_type": "code",
      "source": [
        "# Text Sentiment Analysis\n",
        "def sentiment_analysis(text):\n",
        "  rs = pridiction(text)\n",
        "  df = pd.DataFrame(rs)\n",
        "  senti=df['label'][0]\n",
        "  score=df['score'][0]\n",
        "  if senti == 'LABEL_0' and score >= 0.6:\n",
        "    lb=-1\n",
        "  elif senti == 'LABEL_1' and score >= 0.6:\n",
        "    lb=1\n",
        "  else:\n",
        "    lb=0\n",
        "  return lb"
      ],
      "metadata": {
        "id": "0OcROjnmr-x0"
      },
      "execution_count": null,
      "outputs": []
    },
    {
      "cell_type": "markdown",
      "source": [
        "# Step 4(a): Main (test Model with single sentence)\n",
        "You can write any text to test the model"
      ],
      "metadata": {
        "id": "2xq5ibq5HvHI"
      }
    },
    {
      "cell_type": "code",
      "source": [
        "sentence = \"Aikinka Yana kyau baba uban Abba\"\n",
        "sentiment_analysis(sentence)"
      ],
      "metadata": {
        "colab": {
          "base_uri": "https://localhost:8080/"
        },
        "id": "w033LKeTsQi-",
        "outputId": "2ffd63f3-f386-4882-a61f-8599ee9a11fd"
      },
      "execution_count": null,
      "outputs": [
        {
          "output_type": "execute_result",
          "data": {
            "text/plain": [
              "1"
            ]
          },
          "metadata": {},
          "execution_count": 4
        }
      ]
    },
    {
      "cell_type": "markdown",
      "source": [
        "# Step 4(b): Main (test Model with bulk tweets)"
      ],
      "metadata": {
        "id": "j6-5_FfCKJnu"
      }
    },
    {
      "cell_type": "code",
      "source": [
        "# Start by loding the Text tweets\n",
        "with open('hausa_tweets.csv','r') as test_tweets_file:\n",
        "  reader = csv.reader(test_tweets_file)\n",
        "  data = [['tweet'],['polarity']]\n",
        "  for row in reader:\n",
        "    MyPolarity = ''\n",
        "    tweet = row[0]\n",
        "    MyPolarity = sentiment_analysis(tweet)\n",
        "    data.append([row[0],MyPolarity])\n",
        "    if(MyPolarity == 1):\n",
        "      print(Fore.GREEN + f\"{tweet}\")\n",
        "    elif(MyPolarity == -1):\n",
        "      print(Fore.RED + f\"{tweet}\")\n",
        "    else:\n",
        "      print(tweet)"
      ],
      "metadata": {
        "id": "FcyN0Zy5KTh-"
      },
      "execution_count": null,
      "outputs": []
    },
    {
      "cell_type": "markdown",
      "source": [
        "# Step 5: Save annotated tweets in CSV file"
      ],
      "metadata": {
        "id": "ql4bcEKPa7C9"
      }
    },
    {
      "cell_type": "code",
      "source": [
        "# Save output\n",
        "annotatedtweets = pd.DataFrame(data,columns=['tweets','polarity'])\n",
        "annotatedtweets.to_csv('myannotatedtweets.csv')\n"
      ],
      "metadata": {
        "id": "GHsjnv7TMANc"
      },
      "execution_count": null,
      "outputs": []
    }
  ]
}